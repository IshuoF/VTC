{
 "cells": [
  {
   "cell_type": "markdown",
   "metadata": {},
   "source": [
    "## Import relative libraries\n"
   ]
  },
  {
   "cell_type": "code",
   "execution_count": 24,
   "metadata": {},
   "outputs": [],
   "source": [
    "\n",
    "import json\n",
    "import torch\n",
    "from Dataset_preprocessing import interpolate_data\n",
    "from LSTM_train import LSTMModel"
   ]
  },
  {
   "cell_type": "markdown",
   "metadata": {},
   "source": [
    "# Load json file"
   ]
  },
  {
   "cell_type": "code",
   "execution_count": 25,
   "metadata": {},
   "outputs": [
    {
     "data": {
      "text/plain": [
       "array([[ 5.08218896,  0.15882387,  2.74128498],\n",
       "       [ 5.17257789,  1.53933937,  3.28436584],\n",
       "       [ 5.21971926,  2.30331035,  3.58457678],\n",
       "       ...,\n",
       "       [ 9.4781044 , 11.43170588,  0.42961063],\n",
       "       [ 9.52576683, 11.47632301,  0.36423028],\n",
       "       [ 9.57671793, 11.52343689,  0.30700424]])"
      ]
     },
     "execution_count": 25,
     "metadata": {},
     "output_type": "execute_result"
    }
   ],
   "source": [
    "json_file = \"./data/train_by_label/4/aug/HDR80_A_Live_20230204_143703_000_aug_mi_5.json\"\n",
    "with open(json_file) as f:\n",
    "    data = json.load(f)\n",
    "\n",
    "frame_pos3d = data.get(\"frame_pos3d\", {})\n",
    "\n",
    "interpolated_traj,_ = interpolate_data(frame_pos3d, 400)\n",
    "interpolated_traj"
   ]
  },
  {
   "cell_type": "markdown",
   "metadata": {},
   "source": [
    "## Check GPU"
   ]
  },
  {
   "cell_type": "code",
   "execution_count": 26,
   "metadata": {},
   "outputs": [
    {
     "name": "stdout",
     "output_type": "stream",
     "text": [
      "Using GPU\n"
     ]
    }
   ],
   "source": [
    "if torch.cuda.is_available():\n",
    "        device = torch.device(\"cuda\")\n",
    "        print(\"Using GPU\")\n",
    "else:\n",
    "    device = torch.device(\"cpu\")\n",
    "    print(\"Using CPU\")"
   ]
  },
  {
   "cell_type": "markdown",
   "metadata": {},
   "source": [
    "## Setup parameters"
   ]
  },
  {
   "cell_type": "code",
   "execution_count": 27,
   "metadata": {},
   "outputs": [],
   "source": [
    "input_dim = 3   \n",
    "hidden_dim = 256\n",
    "layer_dim = 3\n",
    "output_dim = 8"
   ]
  },
  {
   "cell_type": "markdown",
   "metadata": {},
   "source": [
    "## Run result"
   ]
  },
  {
   "cell_type": "code",
   "execution_count": 28,
   "metadata": {},
   "outputs": [
    {
     "name": "stdout",
     "output_type": "stream",
     "text": [
      "torch.Size([1, 400, 3])\n",
      "tensor([4], device='cuda:0')\n"
     ]
    }
   ],
   "source": [
    "pretrained_model_path = \"./saved_models/LSTM/ml400_bs32_ep500_lr0.001/best.pth\"\n",
    "model = LSTMModel(input_dim, hidden_dim, layer_dim, output_dim)\n",
    "model.load_state_dict(torch.load(pretrained_model_path))\n",
    "model.to(device)\n",
    "model.eval()\n",
    "\n",
    "with torch.no_grad():\n",
    "    model.eval()\n",
    "    input_traj = torch.tensor(interpolated_traj).float().to(device)\n",
    "    input_traj = input_traj.unsqueeze(0)\n",
    "    print(input_traj.shape)\n",
    "    output = model(input_traj)\n",
    "   \n",
    "    print(torch.argmax(output, dim=1))\n"
   ]
  }
 ],
 "metadata": {
  "kernelspec": {
   "display_name": "VTC",
   "language": "python",
   "name": "python3"
  },
  "language_info": {
   "codemirror_mode": {
    "name": "ipython",
    "version": 3
   },
   "file_extension": ".py",
   "mimetype": "text/x-python",
   "name": "python",
   "nbconvert_exporter": "python",
   "pygments_lexer": "ipython3",
   "version": "3.11.5"
  }
 },
 "nbformat": 4,
 "nbformat_minor": 2
}
